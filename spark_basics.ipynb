{
  "nbformat": 4,
  "nbformat_minor": 0,
  "metadata": {
    "colab": {
      "provenance": [],
      "mount_file_id": "1f3LoH86vAWBwkGKEUi4EFFBusPIRAhWG",
      "authorship_tag": "ABX9TyOKy/q1n63pZmErn6dLkC7R",
      "include_colab_link": true
    },
    "kernelspec": {
      "name": "python3",
      "display_name": "Python 3"
    },
    "language_info": {
      "name": "python"
    }
  },
  "cells": [
    {
      "cell_type": "markdown",
      "metadata": {
        "id": "view-in-github",
        "colab_type": "text"
      },
      "source": [
        "<a href=\"https://colab.research.google.com/github/ramkrushna26/spark/blob/main/spark_basics.ipynb\" target=\"_parent\"><img src=\"https://colab.research.google.com/assets/colab-badge.svg\" alt=\"Open In Colab\"/></a>"
      ]
    },
    {
      "cell_type": "code",
      "execution_count": 5,
      "metadata": {
        "colab": {
          "base_uri": "https://localhost:8080/"
        },
        "id": "3ZDYUf_REV0c",
        "outputId": "cf63c7a9-6022-4c85-85d0-cfed67ed41d3"
      },
      "outputs": [
        {
          "output_type": "stream",
          "name": "stdout",
          "text": [
            "Collecting pyspark\n",
            "  Downloading pyspark-3.5.3.tar.gz (317.3 MB)\n",
            "\u001b[2K     \u001b[90m━━━━━━━━━━━━━━━━━━━━━━━━━━━━━━━━━━━━━━━━\u001b[0m \u001b[32m317.3/317.3 MB\u001b[0m \u001b[31m4.8 MB/s\u001b[0m eta \u001b[36m0:00:00\u001b[0m\n",
            "\u001b[?25h  Preparing metadata (setup.py) ... \u001b[?25l\u001b[?25hdone\n",
            "Requirement already satisfied: py4j==0.10.9.7 in /usr/local/lib/python3.10/dist-packages (from pyspark) (0.10.9.7)\n",
            "Building wheels for collected packages: pyspark\n",
            "  Building wheel for pyspark (setup.py) ... \u001b[?25l\u001b[?25hdone\n",
            "  Created wheel for pyspark: filename=pyspark-3.5.3-py2.py3-none-any.whl size=317840625 sha256=d51a0447592417196ecd882222e3ab7c7877a3a0ccafe197e56ecf032bb3cc73\n",
            "  Stored in directory: /root/.cache/pip/wheels/1b/3a/92/28b93e2fbfdbb07509ca4d6f50c5e407f48dce4ddbda69a4ab\n",
            "Successfully built pyspark\n",
            "Installing collected packages: pyspark\n",
            "Successfully installed pyspark-3.5.3\n"
          ]
        }
      ],
      "source": [
        "!pip install pyspark"
      ]
    },
    {
      "cell_type": "code",
      "source": [
        "from pyspark.sql import SparkSession"
      ],
      "metadata": {
        "id": "UxJAcKEKEfJb"
      },
      "execution_count": 6,
      "outputs": []
    },
    {
      "cell_type": "code",
      "source": [
        "spark = SparkSession.builder.appName('Basics').getOrCreate()"
      ],
      "metadata": {
        "id": "TnqGu7asFFOw"
      },
      "execution_count": 7,
      "outputs": []
    },
    {
      "cell_type": "code",
      "source": [
        "from google.colab import drive\n",
        "drive.mount('/content/drive/')"
      ],
      "metadata": {
        "id": "7DtW5acj9UuH",
        "colab": {
          "base_uri": "https://localhost:8080/"
        },
        "outputId": "8db7a27c-f6bd-47e0-cfee-f7695bbadc7f"
      },
      "execution_count": 9,
      "outputs": [
        {
          "output_type": "stream",
          "name": "stdout",
          "text": [
            "Drive already mounted at /content/drive/; to attempt to forcibly remount, call drive.mount(\"/content/drive/\", force_remount=True).\n"
          ]
        }
      ]
    },
    {
      "cell_type": "code",
      "source": [
        "dfg = spark.read.csv('/content/drive/MyDrive/Colab Notebooks/data/student-scores.csv', header=True)"
      ],
      "metadata": {
        "id": "NjxlU1WuHAZO"
      },
      "execution_count": 10,
      "outputs": []
    },
    {
      "cell_type": "code",
      "source": [
        "dfg.printSchema()"
      ],
      "metadata": {
        "colab": {
          "base_uri": "https://localhost:8080/"
        },
        "id": "68srbbiuDr_D",
        "outputId": "aa290f04-cd14-4846-9247-f4e2b8122a20"
      },
      "execution_count": 11,
      "outputs": [
        {
          "output_type": "stream",
          "name": "stdout",
          "text": [
            "root\n",
            " |-- id: string (nullable = true)\n",
            " |-- first_name: string (nullable = true)\n",
            " |-- last_name: string (nullable = true)\n",
            " |-- email: string (nullable = true)\n",
            " |-- gender: string (nullable = true)\n",
            " |-- part_time_job: string (nullable = true)\n",
            " |-- absence_days: string (nullable = true)\n",
            " |-- extracurricular_activities: string (nullable = true)\n",
            " |-- weekly_self_study_hours: string (nullable = true)\n",
            " |-- career_aspiration: string (nullable = true)\n",
            " |-- math_score: string (nullable = true)\n",
            " |-- history_score: string (nullable = true)\n",
            " |-- physics_score: string (nullable = true)\n",
            " |-- chemistry_score: string (nullable = true)\n",
            " |-- biology_score: string (nullable = true)\n",
            " |-- english_score: string (nullable = true)\n",
            " |-- geography_score: string (nullable = true)\n",
            "\n"
          ]
        }
      ]
    },
    {
      "cell_type": "code",
      "source": [
        "dfg.show(5)"
      ],
      "metadata": {
        "colab": {
          "base_uri": "https://localhost:8080/"
        },
        "id": "b6v63LKRE5wP",
        "outputId": "0021ef09-4df9-429e-ba37-ac037dd7f01f"
      },
      "execution_count": 12,
      "outputs": [
        {
          "output_type": "stream",
          "name": "stdout",
          "text": [
            "+---+----------+---------+--------------------+------+-------------+------------+--------------------------+-----------------------+------------------+----------+-------------+-------------+---------------+-------------+-------------+---------------+\n",
            "| id|first_name|last_name|               email|gender|part_time_job|absence_days|extracurricular_activities|weekly_self_study_hours| career_aspiration|math_score|history_score|physics_score|chemistry_score|biology_score|english_score|geography_score|\n",
            "+---+----------+---------+--------------------+------+-------------+------------+--------------------------+-----------------------+------------------+----------+-------------+-------------+---------------+-------------+-------------+---------------+\n",
            "|  1|      Paul|    Casey|paul.casey.1@gsli...|  male|        False|           3|                     False|                     27|            Lawyer|        73|           81|           93|             97|           63|           80|             87|\n",
            "|  2|  Danielle| Sandoval|danielle.sandoval...|female|        False|           2|                     False|                     47|            Doctor|        90|           86|           96|            100|           90|           88|             90|\n",
            "|  3|      Tina|  Andrews|tina.andrews.3@gs...|female|        False|           9|                      True|                     13|Government Officer|        81|           97|           95|             96|           65|           77|             94|\n",
            "|  4|      Tara|    Clark|tara.clark.4@gsli...|female|        False|           5|                     False|                      3|            Artist|        71|           74|           88|             80|           89|           63|             86|\n",
            "|  5|   Anthony|   Campos|anthony.campos.5@...|  male|        False|           5|                     False|                     10|           Unknown|        84|           77|           65|             65|           80|           74|             76|\n",
            "+---+----------+---------+--------------------+------+-------------+------------+--------------------------+-----------------------+------------------+----------+-------------+-------------+---------------+-------------+-------------+---------------+\n",
            "only showing top 5 rows\n",
            "\n"
          ]
        }
      ]
    },
    {
      "cell_type": "code",
      "source": [
        "names = dfg.select(dfg.first_name, dfg.last_name)"
      ],
      "metadata": {
        "id": "RLUM44URE8XV"
      },
      "execution_count": 13,
      "outputs": []
    },
    {
      "cell_type": "code",
      "source": [
        "names.show(5)"
      ],
      "metadata": {
        "id": "9HkB_L7oF70k"
      },
      "execution_count": null,
      "outputs": []
    },
    {
      "cell_type": "code",
      "source": [
        "maths_topper = dfg.filter(dfg.math_score > 80).select(dfg.email, dfg.math_score)"
      ],
      "metadata": {
        "id": "k2DcdWTNIRs5"
      },
      "execution_count": null,
      "outputs": []
    },
    {
      "cell_type": "code",
      "source": [
        "maths_topper.show(5)"
      ],
      "metadata": {
        "id": "5AQiQXrCIb0E"
      },
      "execution_count": null,
      "outputs": []
    },
    {
      "cell_type": "code",
      "source": [
        "male_students = dfg.where(dfg.gender=='male').select(dfg.first_name, dfg.last_name, dfg.gender)"
      ],
      "metadata": {
        "id": "NkeBaNsDIixP"
      },
      "execution_count": null,
      "outputs": []
    },
    {
      "cell_type": "code",
      "source": [
        "male_students.show(5)"
      ],
      "metadata": {
        "id": "eECU-rzfI8dI"
      },
      "execution_count": null,
      "outputs": []
    },
    {
      "cell_type": "code",
      "source": [
        "dfg.select(dfg.career_aspiration).distinct().show()"
      ],
      "metadata": {
        "id": "bRhPJAcYJJqk"
      },
      "execution_count": null,
      "outputs": []
    },
    {
      "cell_type": "code",
      "source": [
        "import pyspark.sql.functions as F"
      ],
      "metadata": {
        "id": "-otXYuCpJfan"
      },
      "execution_count": 14,
      "outputs": []
    },
    {
      "cell_type": "code",
      "source": [
        "dfg.withColumn(\"full_name\", F.concat(dfg.first_name, dfg.last_name)).show(5)"
      ],
      "metadata": {
        "colab": {
          "base_uri": "https://localhost:8080/"
        },
        "id": "6TWfl5kEKFDr",
        "outputId": "2ca79fb2-f2d4-4a67-f3c2-c2f6a70db6ef"
      },
      "execution_count": 15,
      "outputs": [
        {
          "output_type": "stream",
          "name": "stdout",
          "text": [
            "+---+----------+---------+--------------------+------+-------------+------------+--------------------------+-----------------------+------------------+----------+-------------+-------------+---------------+-------------+-------------+---------------+----------------+\n",
            "| id|first_name|last_name|               email|gender|part_time_job|absence_days|extracurricular_activities|weekly_self_study_hours| career_aspiration|math_score|history_score|physics_score|chemistry_score|biology_score|english_score|geography_score|       full_name|\n",
            "+---+----------+---------+--------------------+------+-------------+------------+--------------------------+-----------------------+------------------+----------+-------------+-------------+---------------+-------------+-------------+---------------+----------------+\n",
            "|  1|      Paul|    Casey|paul.casey.1@gsli...|  male|        False|           3|                     False|                     27|            Lawyer|        73|           81|           93|             97|           63|           80|             87|       PaulCasey|\n",
            "|  2|  Danielle| Sandoval|danielle.sandoval...|female|        False|           2|                     False|                     47|            Doctor|        90|           86|           96|            100|           90|           88|             90|DanielleSandoval|\n",
            "|  3|      Tina|  Andrews|tina.andrews.3@gs...|female|        False|           9|                      True|                     13|Government Officer|        81|           97|           95|             96|           65|           77|             94|     TinaAndrews|\n",
            "|  4|      Tara|    Clark|tara.clark.4@gsli...|female|        False|           5|                     False|                      3|            Artist|        71|           74|           88|             80|           89|           63|             86|       TaraClark|\n",
            "|  5|   Anthony|   Campos|anthony.campos.5@...|  male|        False|           5|                     False|                     10|           Unknown|        84|           77|           65|             65|           80|           74|             76|   AnthonyCampos|\n",
            "+---+----------+---------+--------------------+------+-------------+------------+--------------------------+-----------------------+------------------+----------+-------------+-------------+---------------+-------------+-------------+---------------+----------------+\n",
            "only showing top 5 rows\n",
            "\n"
          ]
        }
      ]
    },
    {
      "cell_type": "code",
      "source": [
        "dfg.show(5)"
      ],
      "metadata": {
        "colab": {
          "base_uri": "https://localhost:8080/"
        },
        "id": "SqcpXEmwKk9v",
        "outputId": "94ecf27f-38b4-44f6-879c-598698ff5d8d"
      },
      "execution_count": 17,
      "outputs": [
        {
          "output_type": "stream",
          "name": "stdout",
          "text": [
            "+---+----------+---------+--------------------+------+-------------+------------+--------------------------+-----------------------+------------------+----------+-------------+-------------+---------------+-------------+-------------+---------------+\n",
            "| id|first_name|last_name|               email|gender|part_time_job|absence_days|extracurricular_activities|weekly_self_study_hours| career_aspiration|math_score|history_score|physics_score|chemistry_score|biology_score|english_score|geography_score|\n",
            "+---+----------+---------+--------------------+------+-------------+------------+--------------------------+-----------------------+------------------+----------+-------------+-------------+---------------+-------------+-------------+---------------+\n",
            "|  1|      Paul|    Casey|paul.casey.1@gsli...|  male|        False|           3|                     False|                     27|            Lawyer|        73|           81|           93|             97|           63|           80|             87|\n",
            "|  2|  Danielle| Sandoval|danielle.sandoval...|female|        False|           2|                     False|                     47|            Doctor|        90|           86|           96|            100|           90|           88|             90|\n",
            "|  3|      Tina|  Andrews|tina.andrews.3@gs...|female|        False|           9|                      True|                     13|Government Officer|        81|           97|           95|             96|           65|           77|             94|\n",
            "|  4|      Tara|    Clark|tara.clark.4@gsli...|female|        False|           5|                     False|                      3|            Artist|        71|           74|           88|             80|           89|           63|             86|\n",
            "|  5|   Anthony|   Campos|anthony.campos.5@...|  male|        False|           5|                     False|                     10|           Unknown|        84|           77|           65|             65|           80|           74|             76|\n",
            "+---+----------+---------+--------------------+------+-------------+------------+--------------------------+-----------------------+------------------+----------+-------------+-------------+---------------+-------------+-------------+---------------+\n",
            "only showing top 5 rows\n",
            "\n"
          ]
        }
      ]
    },
    {
      "cell_type": "code",
      "source": [
        "dfg.na.drop().show(5)"
      ],
      "metadata": {
        "id": "56RbqjrxLoP3",
        "colab": {
          "base_uri": "https://localhost:8080/"
        },
        "outputId": "4a4a91e1-c5b0-40d8-c0fe-2eca5f93826b"
      },
      "execution_count": 18,
      "outputs": [
        {
          "output_type": "stream",
          "name": "stdout",
          "text": [
            "+---+----------+---------+--------------------+------+-------------+------------+--------------------------+-----------------------+------------------+----------+-------------+-------------+---------------+-------------+-------------+---------------+\n",
            "| id|first_name|last_name|               email|gender|part_time_job|absence_days|extracurricular_activities|weekly_self_study_hours| career_aspiration|math_score|history_score|physics_score|chemistry_score|biology_score|english_score|geography_score|\n",
            "+---+----------+---------+--------------------+------+-------------+------------+--------------------------+-----------------------+------------------+----------+-------------+-------------+---------------+-------------+-------------+---------------+\n",
            "|  1|      Paul|    Casey|paul.casey.1@gsli...|  male|        False|           3|                     False|                     27|            Lawyer|        73|           81|           93|             97|           63|           80|             87|\n",
            "|  2|  Danielle| Sandoval|danielle.sandoval...|female|        False|           2|                     False|                     47|            Doctor|        90|           86|           96|            100|           90|           88|             90|\n",
            "|  3|      Tina|  Andrews|tina.andrews.3@gs...|female|        False|           9|                      True|                     13|Government Officer|        81|           97|           95|             96|           65|           77|             94|\n",
            "|  4|      Tara|    Clark|tara.clark.4@gsli...|female|        False|           5|                     False|                      3|            Artist|        71|           74|           88|             80|           89|           63|             86|\n",
            "|  5|   Anthony|   Campos|anthony.campos.5@...|  male|        False|           5|                     False|                     10|           Unknown|        84|           77|           65|             65|           80|           74|             76|\n",
            "+---+----------+---------+--------------------+------+-------------+------------+--------------------------+-----------------------+------------------+----------+-------------+-------------+---------------+-------------+-------------+---------------+\n",
            "only showing top 5 rows\n",
            "\n"
          ]
        }
      ]
    },
    {
      "cell_type": "code",
      "source": [
        "dfg.na.drop(thresh=3).show(5)"
      ],
      "metadata": {
        "colab": {
          "base_uri": "https://localhost:8080/"
        },
        "id": "CvryMPVCkVou",
        "outputId": "7cf0ccfc-4463-4680-e694-71bf7b03d46c"
      },
      "execution_count": 19,
      "outputs": [
        {
          "output_type": "stream",
          "name": "stdout",
          "text": [
            "+---+----------+---------+--------------------+------+-------------+------------+--------------------------+-----------------------+------------------+----------+-------------+-------------+---------------+-------------+-------------+---------------+\n",
            "| id|first_name|last_name|               email|gender|part_time_job|absence_days|extracurricular_activities|weekly_self_study_hours| career_aspiration|math_score|history_score|physics_score|chemistry_score|biology_score|english_score|geography_score|\n",
            "+---+----------+---------+--------------------+------+-------------+------------+--------------------------+-----------------------+------------------+----------+-------------+-------------+---------------+-------------+-------------+---------------+\n",
            "|  1|      Paul|    Casey|paul.casey.1@gsli...|  male|        False|           3|                     False|                     27|            Lawyer|        73|           81|           93|             97|           63|           80|             87|\n",
            "|  2|  Danielle| Sandoval|danielle.sandoval...|female|        False|           2|                     False|                     47|            Doctor|        90|           86|           96|            100|           90|           88|             90|\n",
            "|  3|      Tina|  Andrews|tina.andrews.3@gs...|female|        False|           9|                      True|                     13|Government Officer|        81|           97|           95|             96|           65|           77|             94|\n",
            "|  4|      Tara|    Clark|tara.clark.4@gsli...|female|        False|           5|                     False|                      3|            Artist|        71|           74|           88|             80|           89|           63|             86|\n",
            "|  5|   Anthony|   Campos|anthony.campos.5@...|  male|        False|           5|                     False|                     10|           Unknown|        84|           77|           65|             65|           80|           74|             76|\n",
            "+---+----------+---------+--------------------+------+-------------+------------+--------------------------+-----------------------+------------------+----------+-------------+-------------+---------------+-------------+-------------+---------------+\n",
            "only showing top 5 rows\n",
            "\n"
          ]
        }
      ]
    },
    {
      "cell_type": "code",
      "source": [
        "#drop rows only if all column values are null\n",
        "dfg.na.drop(how='all').show(5)"
      ],
      "metadata": {
        "colab": {
          "base_uri": "https://localhost:8080/"
        },
        "id": "vEMpMsl3ke_M",
        "outputId": "51fa1755-748d-4747-c824-95bd6630c4d0"
      },
      "execution_count": 20,
      "outputs": [
        {
          "output_type": "stream",
          "name": "stdout",
          "text": [
            "+---+----------+---------+--------------------+------+-------------+------------+--------------------------+-----------------------+------------------+----------+-------------+-------------+---------------+-------------+-------------+---------------+\n",
            "| id|first_name|last_name|               email|gender|part_time_job|absence_days|extracurricular_activities|weekly_self_study_hours| career_aspiration|math_score|history_score|physics_score|chemistry_score|biology_score|english_score|geography_score|\n",
            "+---+----------+---------+--------------------+------+-------------+------------+--------------------------+-----------------------+------------------+----------+-------------+-------------+---------------+-------------+-------------+---------------+\n",
            "|  1|      Paul|    Casey|paul.casey.1@gsli...|  male|        False|           3|                     False|                     27|            Lawyer|        73|           81|           93|             97|           63|           80|             87|\n",
            "|  2|  Danielle| Sandoval|danielle.sandoval...|female|        False|           2|                     False|                     47|            Doctor|        90|           86|           96|            100|           90|           88|             90|\n",
            "|  3|      Tina|  Andrews|tina.andrews.3@gs...|female|        False|           9|                      True|                     13|Government Officer|        81|           97|           95|             96|           65|           77|             94|\n",
            "|  4|      Tara|    Clark|tara.clark.4@gsli...|female|        False|           5|                     False|                      3|            Artist|        71|           74|           88|             80|           89|           63|             86|\n",
            "|  5|   Anthony|   Campos|anthony.campos.5@...|  male|        False|           5|                     False|                     10|           Unknown|        84|           77|           65|             65|           80|           74|             76|\n",
            "+---+----------+---------+--------------------+------+-------------+------------+--------------------------+-----------------------+------------------+----------+-------------+-------------+---------------+-------------+-------------+---------------+\n",
            "only showing top 5 rows\n",
            "\n"
          ]
        }
      ]
    },
    {
      "cell_type": "code",
      "source": [
        "#drop only if specific column has null values\n",
        "dfg.na.drop(subset=['gender']).show(5)"
      ],
      "metadata": {
        "colab": {
          "base_uri": "https://localhost:8080/"
        },
        "id": "gE3jYUI7lPqX",
        "outputId": "235f9a05-4c54-4129-e7dc-16b01dea4052"
      },
      "execution_count": 21,
      "outputs": [
        {
          "output_type": "stream",
          "name": "stdout",
          "text": [
            "+---+----------+---------+--------------------+------+-------------+------------+--------------------------+-----------------------+------------------+----------+-------------+-------------+---------------+-------------+-------------+---------------+\n",
            "| id|first_name|last_name|               email|gender|part_time_job|absence_days|extracurricular_activities|weekly_self_study_hours| career_aspiration|math_score|history_score|physics_score|chemistry_score|biology_score|english_score|geography_score|\n",
            "+---+----------+---------+--------------------+------+-------------+------------+--------------------------+-----------------------+------------------+----------+-------------+-------------+---------------+-------------+-------------+---------------+\n",
            "|  1|      Paul|    Casey|paul.casey.1@gsli...|  male|        False|           3|                     False|                     27|            Lawyer|        73|           81|           93|             97|           63|           80|             87|\n",
            "|  2|  Danielle| Sandoval|danielle.sandoval...|female|        False|           2|                     False|                     47|            Doctor|        90|           86|           96|            100|           90|           88|             90|\n",
            "|  3|      Tina|  Andrews|tina.andrews.3@gs...|female|        False|           9|                      True|                     13|Government Officer|        81|           97|           95|             96|           65|           77|             94|\n",
            "|  4|      Tara|    Clark|tara.clark.4@gsli...|female|        False|           5|                     False|                      3|            Artist|        71|           74|           88|             80|           89|           63|             86|\n",
            "|  5|   Anthony|   Campos|anthony.campos.5@...|  male|        False|           5|                     False|                     10|           Unknown|        84|           77|           65|             65|           80|           74|             76|\n",
            "+---+----------+---------+--------------------+------+-------------+------------+--------------------------+-----------------------+------------------+----------+-------------+-------------+---------------+-------------+-------------+---------------+\n",
            "only showing top 5 rows\n",
            "\n"
          ]
        }
      ]
    },
    {
      "cell_type": "code",
      "source": [
        "dfg.na.fill('na', subset=['gender']).show(5)"
      ],
      "metadata": {
        "colab": {
          "base_uri": "https://localhost:8080/"
        },
        "id": "hp5qgcYwliBA",
        "outputId": "f1e87c5b-d530-4576-f3c2-565005ba01b3"
      },
      "execution_count": 22,
      "outputs": [
        {
          "output_type": "stream",
          "name": "stdout",
          "text": [
            "+---+----------+---------+--------------------+------+-------------+------------+--------------------------+-----------------------+------------------+----------+-------------+-------------+---------------+-------------+-------------+---------------+\n",
            "| id|first_name|last_name|               email|gender|part_time_job|absence_days|extracurricular_activities|weekly_self_study_hours| career_aspiration|math_score|history_score|physics_score|chemistry_score|biology_score|english_score|geography_score|\n",
            "+---+----------+---------+--------------------+------+-------------+------------+--------------------------+-----------------------+------------------+----------+-------------+-------------+---------------+-------------+-------------+---------------+\n",
            "|  1|      Paul|    Casey|paul.casey.1@gsli...|  male|        False|           3|                     False|                     27|            Lawyer|        73|           81|           93|             97|           63|           80|             87|\n",
            "|  2|  Danielle| Sandoval|danielle.sandoval...|female|        False|           2|                     False|                     47|            Doctor|        90|           86|           96|            100|           90|           88|             90|\n",
            "|  3|      Tina|  Andrews|tina.andrews.3@gs...|female|        False|           9|                      True|                     13|Government Officer|        81|           97|           95|             96|           65|           77|             94|\n",
            "|  4|      Tara|    Clark|tara.clark.4@gsli...|female|        False|           5|                     False|                      3|            Artist|        71|           74|           88|             80|           89|           63|             86|\n",
            "|  5|   Anthony|   Campos|anthony.campos.5@...|  male|        False|           5|                     False|                     10|           Unknown|        84|           77|           65|             65|           80|           74|             76|\n",
            "+---+----------+---------+--------------------+------+-------------+------------+--------------------------+-----------------------+------------------+----------+-------------+-------------+---------------+-------------+-------------+---------------+\n",
            "only showing top 5 rows\n",
            "\n"
          ]
        }
      ]
    },
    {
      "cell_type": "code",
      "source": [
        "from pyspark.sql.functions import mean"
      ],
      "metadata": {
        "id": "1ZGt9dfQmBmF"
      },
      "execution_count": 23,
      "outputs": []
    },
    {
      "cell_type": "code",
      "source": [
        "dfg.na.fill(dfg.select(mean(dfg['absence_days'])).collect()[0][0], ['absence_days']).show(5)"
      ],
      "metadata": {
        "colab": {
          "base_uri": "https://localhost:8080/"
        },
        "id": "ohaHcyXumXkP",
        "outputId": "5da21e74-8142-4060-bdca-65559af90955"
      },
      "execution_count": 25,
      "outputs": [
        {
          "output_type": "stream",
          "name": "stdout",
          "text": [
            "+---+----------+---------+--------------------+------+-------------+------------+--------------------------+-----------------------+------------------+----------+-------------+-------------+---------------+-------------+-------------+---------------+\n",
            "| id|first_name|last_name|               email|gender|part_time_job|absence_days|extracurricular_activities|weekly_self_study_hours| career_aspiration|math_score|history_score|physics_score|chemistry_score|biology_score|english_score|geography_score|\n",
            "+---+----------+---------+--------------------+------+-------------+------------+--------------------------+-----------------------+------------------+----------+-------------+-------------+---------------+-------------+-------------+---------------+\n",
            "|  1|      Paul|    Casey|paul.casey.1@gsli...|  male|        False|           3|                     False|                     27|            Lawyer|        73|           81|           93|             97|           63|           80|             87|\n",
            "|  2|  Danielle| Sandoval|danielle.sandoval...|female|        False|           2|                     False|                     47|            Doctor|        90|           86|           96|            100|           90|           88|             90|\n",
            "|  3|      Tina|  Andrews|tina.andrews.3@gs...|female|        False|           9|                      True|                     13|Government Officer|        81|           97|           95|             96|           65|           77|             94|\n",
            "|  4|      Tara|    Clark|tara.clark.4@gsli...|female|        False|           5|                     False|                      3|            Artist|        71|           74|           88|             80|           89|           63|             86|\n",
            "|  5|   Anthony|   Campos|anthony.campos.5@...|  male|        False|           5|                     False|                     10|           Unknown|        84|           77|           65|             65|           80|           74|             76|\n",
            "+---+----------+---------+--------------------+------+-------------+------------+--------------------------+-----------------------+------------------+----------+-------------+-------------+---------------+-------------+-------------+---------------+\n",
            "only showing top 5 rows\n",
            "\n"
          ]
        }
      ]
    },
    {
      "cell_type": "code",
      "source": [
        "dfg.filter(dfg.email.isNull()).show(5)"
      ],
      "metadata": {
        "colab": {
          "base_uri": "https://localhost:8080/"
        },
        "id": "iIa_JEqwnBX3",
        "outputId": "7c82313a-cf9f-4c78-d55b-fbb9fc84fc86"
      },
      "execution_count": 33,
      "outputs": [
        {
          "output_type": "stream",
          "name": "stdout",
          "text": [
            "+---+----------+---------+-----+------+-------------+------------+--------------------------+-----------------------+-----------------+----------+-------------+-------------+---------------+-------------+-------------+---------------+\n",
            "| id|first_name|last_name|email|gender|part_time_job|absence_days|extracurricular_activities|weekly_self_study_hours|career_aspiration|math_score|history_score|physics_score|chemistry_score|biology_score|english_score|geography_score|\n",
            "+---+----------+---------+-----+------+-------------+------------+--------------------------+-----------------------+-----------------+----------+-------------+-------------+---------------+-------------+-------------+---------------+\n",
            "+---+----------+---------+-----+------+-------------+------------+--------------------------+-----------------------+-----------------+----------+-------------+-------------+---------------+-------------+-------------+---------------+\n",
            "\n"
          ]
        }
      ]
    },
    {
      "cell_type": "code",
      "source": [
        "from pyspark.sql.functions import (dayofmonth, year, hour, dayofyear, month, weekofyear, format_number, date_format)"
      ],
      "metadata": {
        "id": "f1oZcf75nOKP"
      },
      "execution_count": 35,
      "outputs": []
    },
    {
      "cell_type": "code",
      "source": [
        "dfg.withColumnRenamed('part_time_job', 'part_time_gig').show(5)"
      ],
      "metadata": {
        "colab": {
          "base_uri": "https://localhost:8080/"
        },
        "id": "yQdk3o6wrUiy",
        "outputId": "f9b8f937-e7b5-46f6-ed9b-ef23d7187247"
      },
      "execution_count": 36,
      "outputs": [
        {
          "output_type": "stream",
          "name": "stdout",
          "text": [
            "+---+----------+---------+--------------------+------+-------------+------------+--------------------------+-----------------------+------------------+----------+-------------+-------------+---------------+-------------+-------------+---------------+\n",
            "| id|first_name|last_name|               email|gender|part_time_gig|absence_days|extracurricular_activities|weekly_self_study_hours| career_aspiration|math_score|history_score|physics_score|chemistry_score|biology_score|english_score|geography_score|\n",
            "+---+----------+---------+--------------------+------+-------------+------------+--------------------------+-----------------------+------------------+----------+-------------+-------------+---------------+-------------+-------------+---------------+\n",
            "|  1|      Paul|    Casey|paul.casey.1@gsli...|  male|        False|           3|                     False|                     27|            Lawyer|        73|           81|           93|             97|           63|           80|             87|\n",
            "|  2|  Danielle| Sandoval|danielle.sandoval...|female|        False|           2|                     False|                     47|            Doctor|        90|           86|           96|            100|           90|           88|             90|\n",
            "|  3|      Tina|  Andrews|tina.andrews.3@gs...|female|        False|           9|                      True|                     13|Government Officer|        81|           97|           95|             96|           65|           77|             94|\n",
            "|  4|      Tara|    Clark|tara.clark.4@gsli...|female|        False|           5|                     False|                      3|            Artist|        71|           74|           88|             80|           89|           63|             86|\n",
            "|  5|   Anthony|   Campos|anthony.campos.5@...|  male|        False|           5|                     False|                     10|           Unknown|        84|           77|           65|             65|           80|           74|             76|\n",
            "+---+----------+---------+--------------------+------+-------------+------------+--------------------------+-----------------------+------------------+----------+-------------+-------------+---------------+-------------+-------------+---------------+\n",
            "only showing top 5 rows\n",
            "\n"
          ]
        }
      ]
    },
    {
      "cell_type": "code",
      "source": [],
      "metadata": {
        "id": "G1TrpogdsHuO"
      },
      "execution_count": null,
      "outputs": []
    }
  ]
}